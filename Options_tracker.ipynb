{
 "cells": [
  {
   "cell_type": "code",
   "execution_count": 35,
   "metadata": {},
   "outputs": [],
   "source": [
    "## Imports\n",
    "\n",
    "import numpy as np \n",
    "import math\n",
    "import time\n",
    "from math import exp, log, pi, sqrt\n",
    "from scipy import stats\n",
    "import yahoo_fin\n",
    "from yahoo_fin import options\n",
    "from yahoo_fin import stock_info\n",
    "import pandas_datareader\n",
    "from pandas_datareader import data as pdr\n",
    "from datetime import datetime"
   ]
  },
  {
   "cell_type": "code",
   "execution_count": 5,
   "metadata": {},
   "outputs": [],
   "source": [
    "class OptionsPricing:\n",
    "\n",
    "    def __init__(self, S, K, T, r, q, sigma):\n",
    "        self.S = S\n",
    "        self.K = K\n",
    "        self.T = T\n",
    "        self.r = r\n",
    "        self.q = q \n",
    "        self.sigma = sigma \n",
    "\n",
    "#================================ CALLS ====================================================================\n",
    "\n",
    "    def call_price(self):           # Return the theoretical value of the call option\n",
    "\n",
    "        d1 = (np.log(S/K) + T * (r - q + sigma ** 2 / 2)) / (sigma * sqrt(T))\n",
    "        d2 = d1 - sigma * sqrt(T)\n",
    "\n",
    "        price = S * np.exp(-q * T) * stats.norm.cdf(d1) - K * np.exp(-r * T) * stats.norm.cdf(d2)\n",
    "\n",
    "        return price\n",
    "\n",
    "    def call_delta(self):\n",
    "\n",
    "        d1 = (np.log(S/K) + T * (r - q + sigma ** 2 / 2)) / (sigma * sqrt(T))\n",
    "        d2 = d1 - sigma * sqrt(T)\n",
    "\n",
    "        delta = stats.norm.cdf(d1) * exp(-q * T)\n",
    "\n",
    "        return delta\n",
    "\n",
    "    def call_gamma(self):\n",
    "\n",
    "        d1 = (np.log(S/K) + T * (r - q + sigma ** 2 / 2)) / (sigma * sqrt(T))\n",
    "        d2 = d1 - sigma * sqrt(T)\n",
    "\n",
    "        gamma = (exp(-1* d1 ** 2) / 2) / sqrt(2 * pi)\n",
    "\n",
    "        return gamma\n",
    "\n",
    "    def call_theta(self):\n",
    "\n",
    "        d1 = (np.log(S/K) + T * (r - q + sigma ** 2 / 2)) / (sigma * sqrt(T))\n",
    "        d2 = d1 - sigma * sqrt(T)\n",
    "\n",
    "        theta = (-(S * exp(-1 * (d1 ** 2) / 2) / sqrt(2 * pi) * sigma * exp(-q * T)/ (2 * sqrt(T))) - (r * (K * exp(-r * T)) * stats.norm.cdf(d2)) + (q * S * stats.norm.cdf(d1) * exp(-q * T))) / 365      #Theta defined as the loss of value every calendar day (not trading day)\n",
    "\n",
    "        return theta\n",
    "\n",
    "    def call_vega(self):\n",
    "\n",
    "        d1 = (np.log(S/K) + T * (r - q + sigma ** 2 / 2)) / (sigma * sqrt(T))\n",
    "        d2 = d1 - sigma * sqrt(T)\n",
    "\n",
    "        vega = exp(-1 * d1 ** 2 / 2) / sqrt(2 * pi) * exp(-q * T) * S * sqrt(T) / 100\n",
    "\n",
    "        return vega\n",
    "    \n",
    "    def call_rho(self):\n",
    "\n",
    "        d1 = (np.log(S/K) + T * (r - q + sigma ** 2 / 2)) / (sigma * sqrt(T))\n",
    "        d2 = d1 - sigma * sqrt(T)\n",
    "\n",
    "        rho = K * T * exp(-r * T) * stats.norm.cdf(d2) / 100  \n",
    "\n",
    "        return rho\n",
    "\n",
    "\n",
    "#================================ PUTS ====================================================================\n",
    "\n",
    "    def put_price(self):            # Return the theoretical value of the put option\n",
    "\n",
    "        d1 = (np.log(S/K) + T * (r - q + sigma ** 2 / 2)) / (sigma * sqrt(T))\n",
    "        d2 = d1 - sigma * sqrt(T)\n",
    "\n",
    "        price = K * np.exp(-r * T) * stats.norm.cdf(-d2) - S * np.exp(-q * T) * stats.norm.cdf(-d1)\n",
    "\n",
    "        return price\n",
    "\n",
    "    def put_delta(self):\n",
    "\n",
    "        d1 = (np.log(S/K) + T * (r - q + sigma ** 2 / 2)) / (sigma * sqrt(T))\n",
    "        d2 = d1 - sigma * sqrt(T)\n",
    "\n",
    "        delta = (stats.norm.cdf(d1)-1) * exp(-q * T)\n",
    "\n",
    "        return delta\n",
    "\n",
    "    def put_gamma(self):\n",
    "\n",
    "        d1 = (np.log(S/K) + T * (r - q + sigma ** 2 / 2)) / (sigma * sqrt(T))\n",
    "        d2 = d1 - sigma * sqrt(T)\n",
    "\n",
    "        gamma = (exp(-1* d1 ** 2) / 2) / sqrt(2 * pi)\n",
    "\n",
    "        return gamma\n",
    "\n",
    "    def put_theta(self):\n",
    "\n",
    "        d1 = (np.log(S/K) + T * (r - q + sigma ** 2 / 2)) / (sigma * sqrt(T))\n",
    "        d2 = d1 - sigma * sqrt(T)\n",
    "\n",
    "        theta = (-(S * exp(-1 * d1 ** 2 / 2) / sqrt(2 * pi) * sigma * exp(-q * T) / (2 * sqrt(T))) + (r * K * exp(-r * T) * stats.norm.cdf(-d2)) - (q * S * stats.norm.cdf(-d1) * exp(-q * T))) / 365         # Theta defined as the loss of value every calendar day (365), not every trading day\n",
    "\n",
    "        return theta\n",
    "\n",
    "    def put_vega(self):\n",
    "\n",
    "        d1 = (np.log(S/K) + T * (r - q + sigma ** 2 / 2)) / (sigma * sqrt(T))\n",
    "        d2 = d1 - sigma * sqrt(T)\n",
    "\n",
    "        vega = exp(-1 * d1 ** 2 / 2) / sqrt(2 * pi) * exp(-q * T) * S * sqrt(T) / 100\n",
    "\n",
    "        return vega\n",
    "\n",
    "    def put_rho(self):\n",
    "\n",
    "        d1 = (np.log(S/K) + T * (r - q + sigma ** 2 / 2)) / (sigma * sqrt(T))\n",
    "        d2 = d1 - sigma * sqrt(T)\n",
    "\n",
    "        rho = -K * T * exp(-r * T) * stats.norm.cdf(-d2) / 100\n",
    "\n",
    "        return rho\n"
   ]
  },
  {
   "cell_type": "markdown",
   "metadata": {},
   "source": [
    "## Input Metrics of the Option"
   ]
  },
  {
   "cell_type": "code",
   "execution_count": 6,
   "metadata": {},
   "outputs": [
    {
     "name": "stderr",
     "output_type": "stream",
     "text": [
      "/home/nate/development/env/lib/python3.11/site-packages/yahoo_fin/stock_info.py:580: FutureWarning: Series.__getitem__ treating keys as positions is deprecated. In a future version, integer keys will always be treated as labels (consistent with DataFrame behavior). To access a value by position, use `ser.iloc[pos]`\n",
      "  return df.close[-1]\n"
     ]
    },
    {
     "data": {
      "text/plain": [
       "194.53"
      ]
     },
     "execution_count": 6,
     "metadata": {},
     "output_type": "execute_result"
    }
   ],
   "source": [
    "ticker = 'AAPL'\n",
    "price = stock_info.get_live_price(f\"{ticker}\")           # Underlying price\n",
    "S = round(price, 2)\n",
    "S"
   ]
  },
  {
   "cell_type": "code",
   "execution_count": 7,
   "metadata": {},
   "outputs": [
    {
     "name": "stdout",
     "output_type": "stream",
     "text": [
      "0      65.0\n",
      "1      70.0\n",
      "2      75.0\n",
      "3      80.0\n",
      "4      85.0\n",
      "5      90.0\n",
      "6      95.0\n",
      "7     100.0\n",
      "8     105.0\n",
      "9     110.0\n",
      "10    115.0\n",
      "11    120.0\n",
      "12    125.0\n",
      "13    130.0\n",
      "14    135.0\n",
      "15    140.0\n",
      "16    145.0\n",
      "17    150.0\n",
      "18    152.5\n",
      "19    155.0\n",
      "20    157.5\n",
      "21    160.0\n",
      "22    162.5\n",
      "23    165.0\n",
      "24    167.5\n",
      "25    170.0\n",
      "26    172.5\n",
      "27    175.0\n",
      "28    177.5\n",
      "29    180.0\n",
      "30    182.5\n",
      "31    185.0\n",
      "32    187.5\n",
      "33    190.0\n",
      "34    192.5\n",
      "35    195.0\n",
      "36    197.5\n",
      "37    200.0\n",
      "38    202.5\n",
      "39    205.0\n",
      "40    207.5\n",
      "41    210.0\n",
      "42    212.5\n",
      "43    215.0\n",
      "44    217.5\n",
      "45    220.0\n",
      "46    225.0\n",
      "47    230.0\n",
      "48    235.0\n",
      "49    240.0\n",
      "50    245.0\n",
      "51    250.0\n",
      "52    255.0\n",
      "53    260.0\n",
      "54    270.0\n",
      "55    275.0\n",
      "56    280.0\n",
      "57    285.0\n",
      "58    290.0\n",
      "59    295.0\n",
      "Name: Strike, dtype: float64\n"
     ]
    },
    {
     "name": "stderr",
     "output_type": "stream",
     "text": [
      "/home/nate/development/env/lib/python3.11/site-packages/yahoo_fin/options.py:42: FutureWarning: Passing literal html to 'read_html' is deprecated and will be removed in a future version. To read from a literal string, wrap it in a 'StringIO' object.\n",
      "  tables = pd.read_html(requests.get(site, headers=headers).text)\n"
     ]
    }
   ],
   "source": [
    "option = 'put'.upper()    #Determine which option type\n",
    "\n",
    "if option == 'PUT':\n",
    "        chain = options.get_puts(f\"{ticker}\")\n",
    "\n",
    "elif option == 'CALL':\n",
    "        chain = options.get_calls(f\"{ticker}\")\n",
    "\n",
    "print(chain['Strike'])"
   ]
  },
  {
   "cell_type": "code",
   "execution_count": 8,
   "metadata": {},
   "outputs": [
    {
     "data": {
      "text/plain": [
       "165.0"
      ]
     },
     "execution_count": 8,
     "metadata": {},
     "output_type": "execute_result"
    }
   ],
   "source": [
    "K = float(input(\"Select a Strike Price: \"))     # Strike Price\n",
    "\n",
    "K"
   ]
  },
  {
   "cell_type": "code",
   "execution_count": 24,
   "metadata": {},
   "outputs": [
    {
     "name": "stdout",
     "output_type": "stream",
     "text": [
      "\n",
      "Select an Expiry Date\n",
      " ['December 15, 2023', 'December 22, 2023', 'December 29, 2023', 'January 5, 2024', 'January 12, 2024', 'January 19, 2024', 'January 26, 2024', 'February 16, 2024', 'March 15, 2024', 'April 19, 2024', 'June 21, 2024', 'July 19, 2024', 'September 20, 2024', 'December 20, 2024', 'January 17, 2025', 'June 20, 2025', 'September 19, 2025', 'December 19, 2025', 'January 16, 2026']\n"
     ]
    }
   ],
   "source": [
    "dates = options.get_expiration_dates(f\"{ticker}\")\n",
    "print(\"\\nSelect an Expiry Date\\n\", dates)"
   ]
  },
  {
   "cell_type": "code",
   "execution_count": 26,
   "metadata": {},
   "outputs": [
    {
     "name": "stdout",
     "output_type": "stream",
     "text": [
      "\n",
      "Expiry Date: 01/24/24\n",
      "\n",
      "Days to Expiry: 43\n"
     ]
    }
   ],
   "source": [
    "date1 = input(\"\\nExpiry Date (MM/DD/YY): \")\n",
    "date_str = date1\n",
    "date_object = datetime.strptime(date_str, '%m/%d/%y').date()\n",
    "    #print(type(date_object))\n",
    "    #print(date_object)\n",
    "\n",
    "from datetime import date\n",
    "today = date.today()\n",
    "td = date_object - today\n",
    "print(f\"\\nExpiry Date: {date1}\")\n",
    "print(f\"\\nDays to Expiry: {td.days}\")\n",
    "\n",
    "T = td.days / 365\n"
   ]
  },
  {
   "cell_type": "code",
   "execution_count": 9,
   "metadata": {},
   "outputs": [
    {
     "name": "stderr",
     "output_type": "stream",
     "text": [
      "/home/nate/development/env/lib/python3.11/site-packages/yahoo_fin/stock_info.py:580: FutureWarning: Series.__getitem__ treating keys as positions is deprecated. In a future version, integer keys will always be treated as labels (consistent with DataFrame behavior). To access a value by position, use `ser.iloc[pos]`\n",
      "  return df.close[-1]\n"
     ]
    },
    {
     "data": {
      "text/plain": [
       "0.0525"
      ]
     },
     "execution_count": 9,
     "metadata": {},
     "output_type": "execute_result"
    }
   ],
   "source": [
    "r = stock_info.get_live_price(\"^IRX\")\n",
    "r = round(r, 2)/100\n",
    "r"
   ]
  },
  {
   "cell_type": "code",
   "execution_count": 12,
   "metadata": {},
   "outputs": [
    {
     "name": "stderr",
     "output_type": "stream",
     "text": [
      "/home/nate/development/env/lib/python3.11/site-packages/yahoo_fin/stock_info.py:693: FutureWarning: The behavior of 'to_datetime' with 'unit' when parsing strings is deprecated. In a future version, strings will be parsed as datetime strings, matching the behavior without a 'unit'. To retain the old behavior, explicitly cast ints or floats to numeric type before calling to_datetime.\n",
      "  frame.index = pd.to_datetime(frame.index, unit = \"s\")\n",
      "/tmp/ipykernel_1975/3436392140.py:3: FutureWarning: Series.__getitem__ treating keys as positions is deprecated. In a future version, integer keys will always be treated as labels (consistent with DataFrame behavior). To access a value by position, use `ser.iloc[pos]`\n",
      "  q = i * div['dividend'][i-1] / S\n"
     ]
    },
    {
     "data": {
      "text/plain": [
       "0.004934971469696191"
      ]
     },
     "execution_count": 12,
     "metadata": {},
     "output_type": "execute_result"
    }
   ],
   "source": [
    "div = stock_info.get_dividends(ticker, \"01-01-2023\")\n",
    "i = len(div)\n",
    "q = i * div['dividend'][i-1] / S\n",
    "q                                                   # annual dividend yield\n"
   ]
  },
  {
   "cell_type": "code",
   "execution_count": 32,
   "metadata": {},
   "outputs": [
    {
     "data": {
      "text/plain": [
       "0.2167"
      ]
     },
     "execution_count": 32,
     "metadata": {},
     "output_type": "execute_result"
    }
   ],
   "source": [
    "from dateutil.relativedelta import relativedelta\n",
    "minusoneyear = today - relativedelta(years=1)\n",
    "\n",
    "df = stock_info.get_data(f\"{ticker}\", start_date= minusoneyear, end_date= today)\n",
    "df['close']\n",
    "\n",
    "log_returns = np.log(df.close/df.close.shift(1)).dropna()\n",
    "daily_std = log_returns.std()\n",
    "annualized_vol = daily_std * np.sqrt(252)\n",
    "sigma = round(annualized_vol, 4)\n",
    "sigma "
   ]
  },
  {
   "cell_type": "code",
   "execution_count": 33,
   "metadata": {},
   "outputs": [],
   "source": [
    "model = OptionsPricing(S, K, T, r, q, sigma)\n",
    "\n",
    "callprice = model.call_price()\n",
    "calldelta = model.call_delta()\n",
    "callgamma = model.call_gamma()\n",
    "calltheta = model.call_theta()\n",
    "callvega = model.call_vega()\n",
    "callrho = model.call_rho()\n",
    "\n",
    "putprice = model.put_price()\n",
    "putdelta = model.put_delta()\n",
    "putgamma = model.call_gamma()\n",
    "puttheta = model.put_theta()\n",
    "putvega = model.put_vega()\n",
    "putrho = model.put_rho()\n"
   ]
  },
  {
   "cell_type": "code",
   "execution_count": 34,
   "metadata": {},
   "outputs": [
    {
     "data": {
      "text/plain": [
       "30.484505110518626"
      ]
     },
     "execution_count": 34,
     "metadata": {},
     "output_type": "execute_result"
    }
   ],
   "source": [
    "callprice"
   ]
  },
  {
   "cell_type": "code",
   "execution_count": null,
   "metadata": {},
   "outputs": [],
   "source": []
  }
 ],
 "metadata": {
  "kernelspec": {
   "display_name": "env",
   "language": "python",
   "name": "python3"
  },
  "language_info": {
   "codemirror_mode": {
    "name": "ipython",
    "version": 3
   },
   "file_extension": ".py",
   "mimetype": "text/x-python",
   "name": "python",
   "nbconvert_exporter": "python",
   "pygments_lexer": "ipython3",
   "version": "3.11.5"
  }
 },
 "nbformat": 4,
 "nbformat_minor": 2
}
