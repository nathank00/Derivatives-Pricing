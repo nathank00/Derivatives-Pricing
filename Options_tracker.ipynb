{
 "cells": [
  {
   "cell_type": "code",
   "execution_count": 2,
   "metadata": {},
   "outputs": [],
   "source": [
    "## Imports\n",
    "\n",
    "import numpy as np \n",
    "import math\n",
    "import time\n",
    "from math import exp, log, pi, sqrt\n",
    "from scipy import stats\n",
    "import yahoo_fin\n",
    "from yahoo_fin import options\n",
    "from yahoo_fin import stock_info\n",
    "import pandas_datareader\n",
    "from pandas_datareader import data as pdr\n",
    "from datetime import datetime\n",
    "import pandas as pd"
   ]
  },
  {
   "cell_type": "markdown",
   "metadata": {},
   "source": [
    "## Position Analysis Function"
   ]
  },
  {
   "cell_type": "code",
   "execution_count": 3,
   "metadata": {},
   "outputs": [],
   "source": [
    "class PositionAnalysis:\n",
    "\n",
    "    def __init__(self, portfolio, j):\n",
    "        self.portfolio = portfolio      # Dataframe containing all positions\n",
    "        self.j = j                      # Used for selecting position number\n",
    "\n",
    "#================================ CALLS ====================================================================\n",
    "\n",
    "    def pos_delta(self, portfolio, j):           # Return the net delta of a particular position\n",
    "\n",
    "        delta = portfolio[j][1] * portfolio[j][2]\n",
    "\n",
    "        return delta\n",
    "\n",
    "    def port_delta(self, portfolio):         # Return the net delta of the portfolio\n",
    "\n",
    "        portdelta = 0\n",
    "        for i in range(1, len(portfolio)):\n",
    "            delta_i = portfolio[i][1] * portfolio[i][2]\n",
    "            portdelta = portdelta + delta_i\n",
    "\n",
    "        return portdelta\n",
    "            "
   ]
  },
  {
   "cell_type": "markdown",
   "metadata": {},
   "source": [
    "## Option Pricing / Greeks Calculator Function"
   ]
  },
  {
   "cell_type": "code",
   "execution_count": 4,
   "metadata": {},
   "outputs": [],
   "source": [
    "class OptionsPricing:\n",
    "\n",
    "    def __init__(self, S, K, T, r, q, sigma):\n",
    "        self.S = S\n",
    "        self.K = K\n",
    "        self.T = T\n",
    "        self.r = r\n",
    "        self.q = q \n",
    "        self.sigma = sigma \n",
    "\n",
    "#================================ CALLS ====================================================================\n",
    "\n",
    "    def call_price(self):           # Return the theoretical value of the call option\n",
    "\n",
    "        d1 = (np.log(S/K) + T * (r - q + sigma ** 2 / 2)) / (sigma * sqrt(T))\n",
    "        d2 = d1 - sigma * sqrt(T)\n",
    "\n",
    "        price = S * np.exp(-q * T) * stats.norm.cdf(d1) - K * np.exp(-r * T) * stats.norm.cdf(d2)\n",
    "\n",
    "        return price\n",
    "\n",
    "    def call_delta(self):\n",
    "\n",
    "        d1 = (np.log(S/K) + T * (r - q + sigma ** 2 / 2)) / (sigma * sqrt(T))\n",
    "        d2 = d1 - sigma * sqrt(T)\n",
    "\n",
    "        delta = stats.norm.cdf(d1) * exp(-q * T)\n",
    "\n",
    "        return delta\n",
    "\n",
    "    def call_gamma(self):\n",
    "\n",
    "        d1 = (np.log(S/K) + T * (r - q + sigma ** 2 / 2)) / (sigma * sqrt(T))\n",
    "        d2 = d1 - sigma * sqrt(T)\n",
    "\n",
    "        gamma = (exp(-1* d1 ** 2) / 2) / sqrt(2 * pi)\n",
    "\n",
    "        return gamma\n",
    "\n",
    "    def call_theta(self):\n",
    "\n",
    "        d1 = (np.log(S/K) + T * (r - q + sigma ** 2 / 2)) / (sigma * sqrt(T))\n",
    "        d2 = d1 - sigma * sqrt(T)\n",
    "\n",
    "        theta = (-(S * exp(-1 * (d1 ** 2) / 2) / sqrt(2 * pi) * sigma * exp(-q * T)/ (2 * sqrt(T))) - (r * (K * exp(-r * T)) * stats.norm.cdf(d2)) + (q * S * stats.norm.cdf(d1) * exp(-q * T))) / 365      #Theta defined as the loss of value every calendar day (not trading day)\n",
    "\n",
    "        return theta\n",
    "\n",
    "    def call_vega(self):\n",
    "\n",
    "        d1 = (np.log(S/K) + T * (r - q + sigma ** 2 / 2)) / (sigma * sqrt(T))\n",
    "        d2 = d1 - sigma * sqrt(T)\n",
    "\n",
    "        vega = exp(-1 * d1 ** 2 / 2) / sqrt(2 * pi) * exp(-q * T) * S * sqrt(T) / 100\n",
    "\n",
    "        return vega\n",
    "    \n",
    "    def call_rho(self):\n",
    "\n",
    "        d1 = (np.log(S/K) + T * (r - q + sigma ** 2 / 2)) / (sigma * sqrt(T))\n",
    "        d2 = d1 - sigma * sqrt(T)\n",
    "\n",
    "        rho = K * T * exp(-r * T) * stats.norm.cdf(d2) / 100  \n",
    "\n",
    "        return rho\n",
    "\n",
    "\n",
    "#================================ PUTS ====================================================================\n",
    "\n",
    "    def put_price(self):            # Return the theoretical value of the put option\n",
    "\n",
    "        d1 = (np.log(S/K) + T * (r - q + sigma ** 2 / 2)) / (sigma * sqrt(T))\n",
    "        d2 = d1 - sigma * sqrt(T)\n",
    "\n",
    "        price = K * np.exp(-r * T) * stats.norm.cdf(-d2) - S * np.exp(-q * T) * stats.norm.cdf(-d1)\n",
    "\n",
    "        return price\n",
    "\n",
    "    def put_delta(self):\n",
    "\n",
    "        d1 = (np.log(S/K) + T * (r - q + sigma ** 2 / 2)) / (sigma * sqrt(T))\n",
    "        d2 = d1 - sigma * sqrt(T)\n",
    "\n",
    "        delta = (stats.norm.cdf(d1)-1) * exp(-q * T)\n",
    "\n",
    "        return delta\n",
    "\n",
    "    def put_gamma(self):\n",
    "\n",
    "        d1 = (np.log(S/K) + T * (r - q + sigma ** 2 / 2)) / (sigma * sqrt(T))\n",
    "        d2 = d1 - sigma * sqrt(T)\n",
    "\n",
    "        gamma = (exp(-1* d1 ** 2) / 2) / sqrt(2 * pi)\n",
    "\n",
    "        return gamma\n",
    "\n",
    "    def put_theta(self):\n",
    "\n",
    "        d1 = (np.log(S/K) + T * (r - q + sigma ** 2 / 2)) / (sigma * sqrt(T))\n",
    "        d2 = d1 - sigma * sqrt(T)\n",
    "\n",
    "        theta = (-(S * exp(-1 * d1 ** 2 / 2) / sqrt(2 * pi) * sigma * exp(-q * T) / (2 * sqrt(T))) + (r * K * exp(-r * T) * stats.norm.cdf(-d2)) - (q * S * stats.norm.cdf(-d1) * exp(-q * T))) / 365         # Theta defined as the loss of value every calendar day (365), not every trading day\n",
    "\n",
    "        return theta\n",
    "\n",
    "    def put_vega(self):\n",
    "\n",
    "        d1 = (np.log(S/K) + T * (r - q + sigma ** 2 / 2)) / (sigma * sqrt(T))\n",
    "        d2 = d1 - sigma * sqrt(T)\n",
    "\n",
    "        vega = exp(-1 * d1 ** 2 / 2) / sqrt(2 * pi) * exp(-q * T) * S * sqrt(T) / 100\n",
    "\n",
    "        return vega\n",
    "\n",
    "    def put_rho(self):\n",
    "\n",
    "        d1 = (np.log(S/K) + T * (r - q + sigma ** 2 / 2)) / (sigma * sqrt(T))\n",
    "        d2 = d1 - sigma * sqrt(T)\n",
    "\n",
    "        rho = -K * T * exp(-r * T) * stats.norm.cdf(-d2) / 100\n",
    "\n",
    "        return rho\n"
   ]
  },
  {
   "cell_type": "markdown",
   "metadata": {},
   "source": [
    "## Portfolio Components"
   ]
  },
  {
   "cell_type": "code",
   "execution_count": 5,
   "metadata": {},
   "outputs": [
    {
     "name": "stderr",
     "output_type": "stream",
     "text": [
      "/home/nate/development/env/lib/python3.11/site-packages/yahoo_fin/stock_info.py:580: FutureWarning: Series.__getitem__ treating keys as positions is deprecated. In a future version, integer keys will always be treated as labels (consistent with DataFrame behavior). To access a value by position, use `ser.iloc[pos]`\n",
      "  return df.close[-1]\n",
      "/home/nate/development/env/lib/python3.11/site-packages/yahoo_fin/stock_info.py:580: FutureWarning: Series.__getitem__ treating keys as positions is deprecated. In a future version, integer keys will always be treated as labels (consistent with DataFrame behavior). To access a value by position, use `ser.iloc[pos]`\n",
      "  return df.close[-1]\n",
      "/home/nate/development/env/lib/python3.11/site-packages/yahoo_fin/stock_info.py:580: FutureWarning: Series.__getitem__ treating keys as positions is deprecated. In a future version, integer keys will always be treated as labels (consistent with DataFrame behavior). To access a value by position, use `ser.iloc[pos]`\n",
      "  return df.close[-1]\n",
      "/home/nate/development/env/lib/python3.11/site-packages/yahoo_fin/stock_info.py:580: FutureWarning: Series.__getitem__ treating keys as positions is deprecated. In a future version, integer keys will always be treated as labels (consistent with DataFrame behavior). To access a value by position, use `ser.iloc[pos]`\n",
      "  return df.close[-1]\n",
      "/home/nate/development/env/lib/python3.11/site-packages/yahoo_fin/stock_info.py:580: FutureWarning: Series.__getitem__ treating keys as positions is deprecated. In a future version, integer keys will always be treated as labels (consistent with DataFrame behavior). To access a value by position, use `ser.iloc[pos]`\n",
      "  return df.close[-1]\n",
      "/home/nate/development/env/lib/python3.11/site-packages/yahoo_fin/stock_info.py:580: FutureWarning: Series.__getitem__ treating keys as positions is deprecated. In a future version, integer keys will always be treated as labels (consistent with DataFrame behavior). To access a value by position, use `ser.iloc[pos]`\n",
      "  return df.close[-1]\n",
      "/home/nate/development/env/lib/python3.11/site-packages/yahoo_fin/stock_info.py:580: FutureWarning: Series.__getitem__ treating keys as positions is deprecated. In a future version, integer keys will always be treated as labels (consistent with DataFrame behavior). To access a value by position, use `ser.iloc[pos]`\n",
      "  return df.close[-1]\n",
      "/home/nate/development/env/lib/python3.11/site-packages/yahoo_fin/stock_info.py:580: FutureWarning: Series.__getitem__ treating keys as positions is deprecated. In a future version, integer keys will always be treated as labels (consistent with DataFrame behavior). To access a value by position, use `ser.iloc[pos]`\n",
      "  return df.close[-1]\n",
      "/home/nate/development/env/lib/python3.11/site-packages/yahoo_fin/stock_info.py:580: FutureWarning: Series.__getitem__ treating keys as positions is deprecated. In a future version, integer keys will always be treated as labels (consistent with DataFrame behavior). To access a value by position, use `ser.iloc[pos]`\n",
      "  return df.close[-1]\n",
      "/home/nate/development/env/lib/python3.11/site-packages/yahoo_fin/stock_info.py:580: FutureWarning: Series.__getitem__ treating keys as positions is deprecated. In a future version, integer keys will always be treated as labels (consistent with DataFrame behavior). To access a value by position, use `ser.iloc[pos]`\n",
      "  return df.close[-1]\n",
      "/home/nate/development/env/lib/python3.11/site-packages/yahoo_fin/stock_info.py:580: FutureWarning: Series.__getitem__ treating keys as positions is deprecated. In a future version, integer keys will always be treated as labels (consistent with DataFrame behavior). To access a value by position, use `ser.iloc[pos]`\n",
      "  return df.close[-1]\n",
      "/home/nate/development/env/lib/python3.11/site-packages/yahoo_fin/stock_info.py:580: FutureWarning: Series.__getitem__ treating keys as positions is deprecated. In a future version, integer keys will always be treated as labels (consistent with DataFrame behavior). To access a value by position, use `ser.iloc[pos]`\n",
      "  return df.close[-1]\n"
     ]
    },
    {
     "name": "stdout",
     "output_type": "stream",
     "text": [
      "   Instrument  Position  Direction\n",
      "0        $USD    137000          1\n",
      "1        CAVA      1400          1\n",
      "2         AMD       300          1\n",
      "3         CCJ      1000          1\n",
      "4         CCJ      1000          1\n",
      "5        NVDA        82          1\n",
      "6        SMCI       100          1\n",
      "7        SNOW       300          1\n",
      "8        PATH      2000          1\n",
      "9        PRIM      1200          1\n",
      "10       DDOG       450          1\n",
      "11       ONON      1050          1\n",
      "12        FLR      1000          1\n",
      "13         SG      2200          1\n",
      "\n",
      "Net Asset Value: 696946.6026763916\n",
      "\n"
     ]
    },
    {
     "name": "stderr",
     "output_type": "stream",
     "text": [
      "/home/nate/development/env/lib/python3.11/site-packages/yahoo_fin/stock_info.py:580: FutureWarning: Series.__getitem__ treating keys as positions is deprecated. In a future version, integer keys will always be treated as labels (consistent with DataFrame behavior). To access a value by position, use `ser.iloc[pos]`\n",
      "  return df.close[-1]\n"
     ]
    }
   ],
   "source": [
    "cash      = ['$USD', 137000, +1]         # Cash position\n",
    "position1 = ['CAVA', 1400, +1] \n",
    "position2 = ['AMD', 300, +1]\n",
    "position3 = ['CCJ', 1000, +1]\n",
    "position4 = ['CCJ', 1000, +1]\n",
    "position5 = ['NVDA', 82, +1]\n",
    "position6 = ['SMCI', 100, +1]\n",
    "position7 = ['SNOW', 300, +1]\n",
    "position8 = ['PATH', 2000, +1]\n",
    "position9 = ['PRIM', 1200, +1]\n",
    "position10 = ['DDOG', 450, +1]\n",
    "position11 = ['ONON', 1050, +1]\n",
    "position12 = ['FLR', 1000, +1]\n",
    "position13 = ['SG', 2200, +1]\n",
    "\n",
    "portfolio = [cash, position1, position2, position3, position4, position5, position6, position7, position8, position9, position10, position11, position12, position13]\n",
    "\n",
    "data = pd.DataFrame(portfolio, columns= ['Instrument', 'Position', 'Direction'], index= [0, 1, 2, 3, 4, 5, 6, 7, 8, 9, 10, 11, 12, 13])   # index should go up to the number of positions held (13)\n",
    "\n",
    "\n",
    "nav = cash[1] \n",
    "for i in range(1,len(portfolio)):\n",
    "    price = stock_info.get_live_price(f\"{portfolio[i][0]}\")           # Return current price of position i\n",
    "    i_value = price * portfolio[i][1]                                 # value = price * position size\n",
    "    nav = nav + i_value                                               # append nav with value of position i\n",
    "\n",
    "print(data)\n",
    "print(f\"\\nNet Asset Value: {nav}\\n\")\n"
   ]
  },
  {
   "cell_type": "code",
   "execution_count": 7,
   "metadata": {},
   "outputs": [
    {
     "name": "stdout",
     "output_type": "stream",
     "text": [
      "\n",
      "Delta of position 1: 1400\n",
      "\n",
      "Portfolio Delta: 12082\n"
     ]
    }
   ],
   "source": [
    "j = 1      # Input position number here to calculate delta\n",
    "\n",
    "pos_delta = PositionAnalysis(portfolio, j)\n",
    "\n",
    "delta_j = pos_delta.pos_delta(portfolio, j)\n",
    "\n",
    "port_delta = PositionAnalysis(portfolio, j)\n",
    "\n",
    "total_delta = port_delta.port_delta(portfolio)          # Calculate delta for the entire portfolio\n",
    "\n",
    "print(f\"\\nDelta of position {j}: {delta_j}\\n\")\n",
    "print(f\"Portfolio Delta: {total_delta}\")"
   ]
  },
  {
   "cell_type": "markdown",
   "metadata": {},
   "source": [
    "## Input Metrics of the Option"
   ]
  },
  {
   "cell_type": "code",
   "execution_count": 8,
   "metadata": {},
   "outputs": [
    {
     "name": "stdout",
     "output_type": "stream",
     "text": [
      "\n",
      "Current Price of CAVA: 40.58\n",
      "\n"
     ]
    },
    {
     "name": "stderr",
     "output_type": "stream",
     "text": [
      "/home/nate/development/env/lib/python3.11/site-packages/yahoo_fin/stock_info.py:580: FutureWarning: Series.__getitem__ treating keys as positions is deprecated. In a future version, integer keys will always be treated as labels (consistent with DataFrame behavior). To access a value by position, use `ser.iloc[pos]`\n",
      "  return df.close[-1]\n"
     ]
    }
   ],
   "source": [
    "pos_number = j      # Input position number to identify the ticker to price options for \n",
    "\n",
    "instrument = portfolio[pos_number][0]\n",
    "price = stock_info.get_live_price(f\"{instrument}\")           # Underlying price\n",
    "S = round(price, 2)\n",
    "print(f\"\\nCurrent Price of {instrument}: {S}\\n\")"
   ]
  },
  {
   "cell_type": "code",
   "execution_count": 15,
   "metadata": {},
   "outputs": [
    {
     "name": "stdout",
     "output_type": "stream",
     "text": [
      "CAVA Put Strike Prices\n",
      "\n",
      "           Contract Name         Last Trade Date  Strike  Last Price    Bid  \\\n",
      "0   CAVA231215P00017500  2023-12-08 10:43AM EST    17.5        0.05   0.00   \n",
      "1   CAVA231215P00020000   2023-12-11 3:59PM EST    20.0        0.01   0.00   \n",
      "2   CAVA231215P00021000   2023-12-11 1:35PM EST    21.0        0.05   0.00   \n",
      "3   CAVA231215P00022000   2023-12-11 1:55PM EST    22.0        0.05   0.00   \n",
      "4   CAVA231215P00022500   2023-12-11 3:55PM EST    22.5        0.05   0.00   \n",
      "5   CAVA231215P00023000   2023-12-12 1:16PM EST    23.0        0.04   0.00   \n",
      "6   CAVA231215P00024000   2023-12-11 1:34PM EST    24.0        0.15   0.00   \n",
      "7   CAVA231215P00024500   2023-12-11 3:58PM EST    24.5        0.10   0.00   \n",
      "8   CAVA231215P00025000  2023-12-14 12:38PM EST    25.0        0.05   0.00   \n",
      "9   CAVA231215P00026000   2023-12-13 3:12PM EST    26.0        0.03   0.00   \n",
      "10  CAVA231215P00026500  2023-12-14 10:15AM EST    26.5        0.05   0.00   \n",
      "11  CAVA231215P00027000  2023-12-14 10:13AM EST    27.0        0.04   0.00   \n",
      "12  CAVA231215P00027500   2023-12-12 9:51AM EST    27.5        0.10   0.00   \n",
      "13  CAVA231215P00028000   2023-12-13 3:25PM EST    28.0        0.04   0.00   \n",
      "14  CAVA231215P00028500  2023-12-13 10:01AM EST    28.5        0.10   0.00   \n",
      "15  CAVA231215P00029000   2023-12-13 2:58PM EST    29.0        0.05   0.00   \n",
      "16  CAVA231215P00029500   2023-12-13 1:53PM EST    29.5        0.01   0.00   \n",
      "17  CAVA231215P00030000   2023-12-14 1:53PM EST    30.0        0.02   0.00   \n",
      "18  CAVA231215P00030500   2023-12-14 1:30PM EST    30.5        0.05   0.00   \n",
      "19  CAVA231215P00031000   2023-12-13 3:13PM EST    31.0        0.10   0.00   \n",
      "20  CAVA231215P00031500  2023-12-14 11:08AM EST    31.5        0.05   0.00   \n",
      "21  CAVA231215P00032000  2023-12-14 10:29AM EST    32.0        0.05   0.00   \n",
      "22  CAVA231215P00032500   2023-12-13 3:07PM EST    32.5        0.05   0.00   \n",
      "23  CAVA231215P00033000  2023-12-14 11:43AM EST    33.0        0.05   0.00   \n",
      "24  CAVA231215P00033500   2023-12-13 3:04PM EST    33.5        0.12   0.00   \n",
      "25  CAVA231215P00034000  2023-12-14 10:14AM EST    34.0        0.05   0.00   \n",
      "26  CAVA231215P00034500  2023-12-14 12:05PM EST    34.5        0.05   0.00   \n",
      "27  CAVA231215P00035000   2023-12-14 1:10PM EST    35.0        0.05   0.05   \n",
      "28  CAVA231215P00035500  2023-12-14 12:21PM EST    35.5        0.05   0.00   \n",
      "29  CAVA231215P00036000  2023-12-14 12:02PM EST    36.0        0.10   0.05   \n",
      "30  CAVA231215P00037000   2023-12-14 2:12PM EST    37.0        0.08   0.05   \n",
      "31  CAVA231215P00038000   2023-12-14 1:57PM EST    38.0        0.20   0.15   \n",
      "32  CAVA231215P00039000  2023-12-14 12:21PM EST    39.0        0.40   0.20   \n",
      "33  CAVA231215P00040000   2023-12-14 2:22PM EST    40.0        0.60   0.50   \n",
      "34  CAVA231215P00042000  2023-12-14 12:24PM EST    42.0        1.85   1.60   \n",
      "35  CAVA231215P00043000  2023-12-13 11:49AM EST    43.0        5.90   2.45   \n",
      "36  CAVA231215P00044000   2023-12-13 1:14PM EST    44.0        5.80   3.00   \n",
      "37  CAVA231215P00045000   2023-12-13 3:41PM EST    45.0        4.60   3.80   \n",
      "38  CAVA231215P00050000   2023-12-13 3:49PM EST    50.0        9.00   8.90   \n",
      "39  CAVA231215P00055000   2023-12-13 3:12PM EST    55.0       13.80  14.20   \n",
      "40  CAVA231215P00060000  2023-12-14 10:46AM EST    60.0       19.53  19.30   \n",
      "41  CAVA231215P00065000   2023-12-12 9:32AM EST    65.0       30.50  24.10   \n",
      "42  CAVA231215P00070000   2023-09-08 9:11AM EST    70.0       30.80  38.20   \n",
      "43  CAVA231215P00075000  2023-08-28 12:47PM EST    75.0       34.50  42.50   \n",
      "44  CAVA231215P00080000   2023-09-08 9:11AM EST    80.0       40.70  48.20   \n",
      "45  CAVA231215P00085000   2023-09-07 8:46AM EST    85.0       44.40  53.10   \n",
      "\n",
      "      Ask  Change  % Change Volume  Open Interest Implied Volatility  \n",
      "0    0.05    0.00         -      2            219            468.75%  \n",
      "1    0.05    0.00         -    109           3139            398.44%  \n",
      "2    0.05    0.00         -   1363           1834            375.00%  \n",
      "3    0.05    0.00         -    579            805            350.00%  \n",
      "4    0.05    0.00         -   1198           2752            337.50%  \n",
      "5    0.05    0.00         -    412           1189            325.00%  \n",
      "6    0.05    0.00         -    142            166            303.13%  \n",
      "7    0.05    0.00         -     16             43            293.75%  \n",
      "8    0.05    0.04  +400.00%      3           2694            281.25%  \n",
      "9    0.05    0.00         -      4            513            260.94%  \n",
      "10   0.05    0.00         -     37            117            250.00%  \n",
      "11   0.05   -0.01   -20.00%     23            877            240.63%  \n",
      "12   0.25    0.00         -      3             33            298.44%  \n",
      "13   0.05    0.00         -      7            474            221.88%  \n",
      "14   0.05    0.00         -     10            325            212.50%  \n",
      "15   0.05    0.00         -      1           4612            203.13%  \n",
      "16   0.50    0.00         -     16            177            292.97%  \n",
      "17   0.05   -0.03   -60.00%     19           9771            184.38%  \n",
      "18   0.25    0.00         -     12             84            229.69%  \n",
      "19   0.05    0.00         -    132           1236            165.63%  \n",
      "20   0.25    0.00         -     25            192            207.03%  \n",
      "21   0.25    0.00         -     21           1707            196.48%  \n",
      "22   0.05    0.00         -     72           1806            139.06%  \n",
      "23   0.10    0.00         -     15           1986            146.09%  \n",
      "24   0.05    0.00         -     21            110            121.88%  \n",
      "25   0.15   -0.10   -66.67%     16            211            138.28%  \n",
      "26   0.10   -0.05   -50.00%     48            215            118.75%  \n",
      "27   0.15   -0.10   -66.67%    203           5931            126.17%  \n",
      "28   0.20   -0.10   -66.67%      6            208            116.02%  \n",
      "29   0.10    0.00         -     14           1420             99.22%  \n",
      "30   0.15   -0.10   -55.56%     68            379             85.55%  \n",
      "31   0.20   -0.07   -25.93%     61            167             76.95%  \n",
      "32   0.35   -0.05   -11.11%     74             28             64.45%  \n",
      "33   0.60   -0.05    -7.69%    117           4508             58.40%  \n",
      "34   1.90    0.10    +5.71%      2              0             63.67%  \n",
      "35   2.65    0.00         -      2             20              0.00%  \n",
      "36   4.40    0.00         -      2              5             50.00%  \n",
      "37   4.90    0.00         -     17           3674            121.68%  \n",
      "38   9.70    0.00         -     13            159            112.50%  \n",
      "39  14.70   -1.20    -8.00%      1            270            156.25%  \n",
      "40  19.70   -7.87   -28.72%      1             67            187.50%  \n",
      "41  24.60    0.00         -      1              7              0.00%  \n",
      "42  38.80    0.00         -     10             10          1,328.71%  \n",
      "43  44.30    0.00         -      1              0          1,378.71%  \n",
      "44  48.70    0.00         -     10             10          1,435.94%  \n",
      "45  54.20    0.00         -      -              2          1,501.37%  \n"
     ]
    },
    {
     "name": "stderr",
     "output_type": "stream",
     "text": [
      "/home/nate/development/env/lib/python3.11/site-packages/yahoo_fin/options.py:42: FutureWarning: Passing literal html to 'read_html' is deprecated and will be removed in a future version. To read from a literal string, wrap it in a 'StringIO' object.\n",
      "  tables = pd.read_html(requests.get(site, headers=headers).text)\n"
     ]
    }
   ],
   "source": [
    "if portfolio[pos_number][2] > 0:        # If the position is LONG\n",
    "        option = 'PUT'\n",
    "        chain = options.get_puts(f\"{instrument}\")         # Buy Puts\n",
    "        print(f\"{instrument} Put Strike Prices\\n\\n\", chain)\n",
    "else: \n",
    "        option = 'CALL'\n",
    "        chain = options.get_calls(f\"{instrument}\")        # Buy Calls\n",
    "        print(f\"{instrument} Call Strike Prices\\n\\n\", chain)"
   ]
  },
  {
   "cell_type": "code",
   "execution_count": 10,
   "metadata": {},
   "outputs": [
    {
     "name": "stdout",
     "output_type": "stream",
     "text": [
      "\n",
      "Selected CAVA PUT Strike Price: 42.0\n",
      "\n"
     ]
    }
   ],
   "source": [
    "K = float(input(\"Select a Strike Price: \"))     # Strike Price\n",
    "\n",
    "print(f\"\\nSelected {instrument} {option} Strike Price: {K}\\n\")"
   ]
  },
  {
   "cell_type": "code",
   "execution_count": 12,
   "metadata": {},
   "outputs": [
    {
     "name": "stdout",
     "output_type": "stream",
     "text": [
      "\n",
      "Select a PUT Expiry Date:\n",
      "\n",
      " ['December 15, 2023', 'December 22, 2023', 'December 29, 2023', 'January 5, 2024', 'January 12, 2024', 'January 19, 2024', 'January 26, 2024', 'April 19, 2024', 'July 19, 2024', 'December 20, 2024', 'January 17, 2025', 'January 16, 2026']\n"
     ]
    }
   ],
   "source": [
    "dates = options.get_expiration_dates(f\"{instrument}\")\n",
    "print(f\"\\nSelect a {option} Expiry Date:\\n\\n\", dates)"
   ]
  },
  {
   "cell_type": "code",
   "execution_count": 13,
   "metadata": {},
   "outputs": [
    {
     "name": "stdout",
     "output_type": "stream",
     "text": [
      "\n",
      "Expiry Date: 01/05/24\n",
      "\n",
      "Days to Expiry: 22\n"
     ]
    }
   ],
   "source": [
    "date1 = input(\"\\nExpiry Date (MM/DD/YY): \")\n",
    "date_str = date1\n",
    "date_object = datetime.strptime(date_str, '%m/%d/%y').date()\n",
    "    #print(type(date_object))\n",
    "    #print(date_object)\n",
    "\n",
    "from datetime import date\n",
    "today = date.today()\n",
    "td = date_object - today\n",
    "print(f\"\\nExpiry Date: {date1}\")\n",
    "print(f\"\\nDays to Expiry: {td.days}\")\n",
    "\n",
    "T = td.days / 365\n"
   ]
  },
  {
   "cell_type": "code",
   "execution_count": 85,
   "metadata": {},
   "outputs": [
    {
     "name": "stdout",
     "output_type": "stream",
     "text": [
      "Risk-Free Rate: 5.25%\n",
      "\n"
     ]
    },
    {
     "name": "stderr",
     "output_type": "stream",
     "text": [
      "/home/nate/development/env/lib/python3.11/site-packages/yahoo_fin/stock_info.py:580: FutureWarning: Series.__getitem__ treating keys as positions is deprecated. In a future version, integer keys will always be treated as labels (consistent with DataFrame behavior). To access a value by position, use `ser.iloc[pos]`\n",
      "  return df.close[-1]\n"
     ]
    }
   ],
   "source": [
    "r = stock_info.get_live_price(\"^IRX\")/100\n",
    "rate = round(r, 4)\n",
    "print(f\"Risk-Free Rate: {rate*100}%\\n\")"
   ]
  },
  {
   "cell_type": "code",
   "execution_count": 91,
   "metadata": {},
   "outputs": [
    {
     "ename": "KeyError",
     "evalue": "'dividend'",
     "output_type": "error",
     "traceback": [
      "\u001b[0;31m---------------------------------------------------------------------------\u001b[0m",
      "\u001b[0;31mKeyError\u001b[0m                                  Traceback (most recent call last)",
      "Cell \u001b[0;32mIn[91], line 3\u001b[0m\n\u001b[1;32m      1\u001b[0m div \u001b[39m=\u001b[39m stock_info\u001b[39m.\u001b[39mget_dividends(instrument, \u001b[39m\"\u001b[39m\u001b[39m01-01-2023\u001b[39m\u001b[39m\"\u001b[39m)\n\u001b[0;32m----> 3\u001b[0m \u001b[39mif\u001b[39;00m \u001b[39mlen\u001b[39m(div[\u001b[39m'\u001b[39;49m\u001b[39mdividend\u001b[39;49m\u001b[39m'\u001b[39;49m]) \u001b[39m==\u001b[39m \u001b[39m0\u001b[39m:\n\u001b[1;32m      4\u001b[0m     q \u001b[39m=\u001b[39m \u001b[39m0\u001b[39m\n\u001b[1;32m      5\u001b[0m     \u001b[39mprint\u001b[39m(\u001b[39mf\u001b[39m\u001b[39m\"\u001b[39m\u001b[39m{\u001b[39;00mq\u001b[39m}\u001b[39;00m\u001b[39m\\n\u001b[39;00m\u001b[39m%\u001b[39m\u001b[39m\"\u001b[39m)\n",
      "File \u001b[0;32m~/development/env/lib/python3.11/site-packages/pandas/core/frame.py:3896\u001b[0m, in \u001b[0;36mDataFrame.__getitem__\u001b[0;34m(self, key)\u001b[0m\n\u001b[1;32m   3894\u001b[0m \u001b[39mif\u001b[39;00m \u001b[39mself\u001b[39m\u001b[39m.\u001b[39mcolumns\u001b[39m.\u001b[39mnlevels \u001b[39m>\u001b[39m \u001b[39m1\u001b[39m:\n\u001b[1;32m   3895\u001b[0m     \u001b[39mreturn\u001b[39;00m \u001b[39mself\u001b[39m\u001b[39m.\u001b[39m_getitem_multilevel(key)\n\u001b[0;32m-> 3896\u001b[0m indexer \u001b[39m=\u001b[39m \u001b[39mself\u001b[39;49m\u001b[39m.\u001b[39;49mcolumns\u001b[39m.\u001b[39;49mget_loc(key)\n\u001b[1;32m   3897\u001b[0m \u001b[39mif\u001b[39;00m is_integer(indexer):\n\u001b[1;32m   3898\u001b[0m     indexer \u001b[39m=\u001b[39m [indexer]\n",
      "File \u001b[0;32m~/development/env/lib/python3.11/site-packages/pandas/core/indexes/range.py:418\u001b[0m, in \u001b[0;36mRangeIndex.get_loc\u001b[0;34m(self, key)\u001b[0m\n\u001b[1;32m    416\u001b[0m         \u001b[39mraise\u001b[39;00m \u001b[39mKeyError\u001b[39;00m(key) \u001b[39mfrom\u001b[39;00m \u001b[39merr\u001b[39;00m\n\u001b[1;32m    417\u001b[0m \u001b[39mif\u001b[39;00m \u001b[39misinstance\u001b[39m(key, Hashable):\n\u001b[0;32m--> 418\u001b[0m     \u001b[39mraise\u001b[39;00m \u001b[39mKeyError\u001b[39;00m(key)\n\u001b[1;32m    419\u001b[0m \u001b[39mself\u001b[39m\u001b[39m.\u001b[39m_check_indexing_error(key)\n\u001b[1;32m    420\u001b[0m \u001b[39mraise\u001b[39;00m \u001b[39mKeyError\u001b[39;00m(key)\n",
      "\u001b[0;31mKeyError\u001b[0m: 'dividend'"
     ]
    }
   ],
   "source": [
    "div = stock_info.get_dividends(instrument, \"01-01-2023\")\n",
    "\n",
    "if len(div['dividend']) == 0:\n",
    "    q = 0\n",
    "    print(f\"{q}\\n%\")\n",
    "    \n",
    "else:\n",
    "    i = len(div)\n",
    "    q = i * div['dividend'][i-1] / S\n",
    "    print(f\"Current Dividend Yield: {round(q, 2)}\\n\")                                                   # annual dividend yield\n"
   ]
  },
  {
   "cell_type": "code",
   "execution_count": 15,
   "metadata": {},
   "outputs": [
    {
     "data": {
      "text/plain": [
       "0.2167"
      ]
     },
     "execution_count": 15,
     "metadata": {},
     "output_type": "execute_result"
    }
   ],
   "source": [
    "from dateutil.relativedelta import relativedelta\n",
    "minusoneyear = today - relativedelta(years=1)\n",
    "\n",
    "df = stock_info.get_data(f\"{ticker}\", start_date= minusoneyear, end_date= today)\n",
    "df['close']\n",
    "\n",
    "log_returns = np.log(df.close/df.close.shift(1)).dropna()\n",
    "daily_std = log_returns.std()\n",
    "annualized_vol = daily_std * np.sqrt(252)\n",
    "sigma = round(annualized_vol, 4)\n",
    "sigma "
   ]
  },
  {
   "cell_type": "code",
   "execution_count": 16,
   "metadata": {},
   "outputs": [],
   "source": [
    "model = OptionsPricing(S, K, T, r, q, sigma)\n",
    "\n",
    "callprice = model.call_price()\n",
    "calldelta = model.call_delta()\n",
    "callgamma = model.call_gamma()\n",
    "calltheta = model.call_theta()\n",
    "callvega = model.call_vega()\n",
    "callrho = model.call_rho()\n",
    "\n",
    "putprice = model.put_price()\n",
    "putdelta = model.put_delta()\n",
    "putgamma = model.call_gamma()\n",
    "puttheta = model.put_theta()\n",
    "putvega = model.put_vega()\n",
    "putrho = model.put_rho()\n"
   ]
  },
  {
   "cell_type": "code",
   "execution_count": 17,
   "metadata": {},
   "outputs": [
    {
     "data": {
      "text/plain": [
       "0.06617011658877914"
      ]
     },
     "execution_count": 17,
     "metadata": {},
     "output_type": "execute_result"
    }
   ],
   "source": [
    "callprice"
   ]
  },
  {
   "cell_type": "code",
   "execution_count": null,
   "metadata": {},
   "outputs": [],
   "source": []
  }
 ],
 "metadata": {
  "kernelspec": {
   "display_name": "env",
   "language": "python",
   "name": "python3"
  },
  "language_info": {
   "codemirror_mode": {
    "name": "ipython",
    "version": 3
   },
   "file_extension": ".py",
   "mimetype": "text/x-python",
   "name": "python",
   "nbconvert_exporter": "python",
   "pygments_lexer": "ipython3",
   "version": "3.11.5"
  }
 },
 "nbformat": 4,
 "nbformat_minor": 2
}
