{
 "cells": [
  {
   "cell_type": "code",
   "execution_count": 16,
   "metadata": {},
   "outputs": [],
   "source": [
    "\n",
    "import numpy as np \n",
    "import math\n",
    "import time\n",
    "from math import exp, log, pi, sqrt\n",
    "from scipy import stats"
   ]
  },
  {
   "cell_type": "code",
   "execution_count": 48,
   "metadata": {},
   "outputs": [],
   "source": [
    "class OptionsPricing:\n",
    "\n",
    "    def __init__(self, S, K, T, r, q, sigma):\n",
    "        self.S = S\n",
    "        self.K = K\n",
    "        self.T = T\n",
    "        self.r = r\n",
    "        self.q = q \n",
    "        self.sigma = sigma \n",
    "\n",
    "#================================ CALLS ====================================================================\n",
    "\n",
    "    def call_price(self):\n",
    "\n",
    "        d1 = (np.log(S/K) + t * (r - q + sigma ** 2 / 2)) / (sigma * sqrt(t))\n",
    "        d2 = d1 - sigma * sqrt(t)\n",
    "\n",
    "        price = S * np.exp(-q * t) * stats.norm.cdf(d1) - K * np.exp(-r * t) * stats.norm.cdf(d2)\n",
    "\n",
    "        return price\n",
    "\n",
    "    def call_delta(self):\n",
    "\n",
    "        d1 = (np.log(S/K) + t * (r - q + sigma ** 2 / 2)) / (sigma * sqrt(t))\n",
    "        d2 = d1 - sigma * sqrt(t)\n",
    "\n",
    "        delta = stats.norm.cdf(d1) * exp(-q * T)\n",
    "\n",
    "        return delta\n",
    "\n",
    "    def call_gamma(self):\n",
    "\n",
    "        d1 = (np.log(S/K) + t * (r - q + sigma ** 2 / 2)) / (sigma * sqrt(t))\n",
    "        d2 = d1 - sigma * sqrt(t)\n",
    "\n",
    "        gamma = (exp(-1* d1 ** 2) / 2) / sqrt(2 * pi)\n",
    "\n",
    "        return gamma\n",
    "\n",
    "\n",
    "#================================ PUTS ====================================================================\n",
    "\n",
    "    def put_price(self):\n",
    "\n",
    "        d1 = (np.log(S/K) + t * (r - q + sigma ** 2 / 2)) / (sigma * sqrt(t))\n",
    "        d2 = d1 - sigma * sqrt(t)\n",
    "\n",
    "        price = K * np.exp(-r * t) * stats.norm.cdf(-d2) - S * np.exp(-q * t) * stats.norm.cdf(-d1)\n",
    "\n",
    "        return price\n",
    "\n",
    "    def put_delta(self):\n",
    "\n",
    "        d1 = (np.log(S/K) + t * (r - q + sigma ** 2 / 2)) / (sigma * sqrt(t))\n",
    "        d2 = d1 - sigma * sqrt(t)\n",
    "\n",
    "        delta = (stats.norm.cdf(d1)-1) * exp(-q * T)\n",
    "\n",
    "        return delta\n",
    "\n",
    "    def put_gamma(self):\n",
    "\n",
    "        d1 = (np.log(S/K) + t * (r - q + sigma ** 2 / 2)) / (sigma * sqrt(t))\n",
    "        d2 = d1 - sigma * sqrt(t)\n",
    "\n",
    "        gamma = (exp(-1* d1 ** 2) / 2) / sqrt(2 * pi)\n",
    "\n",
    "        return gamma\n"
   ]
  },
  {
   "cell_type": "code",
   "execution_count": 49,
   "metadata": {},
   "outputs": [],
   "source": [
    "S = 110\n",
    "K = 100\n",
    "r = 0.10\n",
    "q = 0.08\n",
    "T = 6/12\n",
    "sigma = 0.25"
   ]
  },
  {
   "cell_type": "code",
   "execution_count": 50,
   "metadata": {},
   "outputs": [],
   "source": [
    "model = OptionsPricing(S, K, T, r, q, sigma)\n",
    "\n",
    "callprice = model.call_price()\n",
    "calldelta = model.call_delta()\n",
    "callgamma = model.call_gamma()\n",
    "putprice = model.put_price()\n",
    "putdelta = model.put_delta()\n",
    "putgamma = model.call_gamma()\n",
    "\n",
    "\n",
    "\n"
   ]
  },
  {
   "cell_type": "code",
   "execution_count": 52,
   "metadata": {},
   "outputs": [
    {
     "data": {
      "text/plain": [
       "0.12491823438631462"
      ]
     },
     "execution_count": 52,
     "metadata": {},
     "output_type": "execute_result"
    }
   ],
   "source": []
  },
  {
   "cell_type": "code",
   "execution_count": null,
   "metadata": {},
   "outputs": [],
   "source": []
  }
 ],
 "metadata": {
  "kernelspec": {
   "display_name": "env",
   "language": "python",
   "name": "python3"
  },
  "language_info": {
   "codemirror_mode": {
    "name": "ipython",
    "version": 3
   },
   "file_extension": ".py",
   "mimetype": "text/x-python",
   "name": "python",
   "nbconvert_exporter": "python",
   "pygments_lexer": "ipython3",
   "version": "3.8.8"
  }
 },
 "nbformat": 4,
 "nbformat_minor": 2
}
