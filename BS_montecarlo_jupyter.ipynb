{
 "cells": [
  {
   "cell_type": "markdown",
   "metadata": {},
   "source": [
    "# Options Pricing using Monte-Carlo Simulation"
   ]
  },
  {
   "cell_type": "code",
   "execution_count": 1,
   "metadata": {},
   "outputs": [],
   "source": [
    "import numpy as np \n",
    "import math\n",
    "import time\n"
   ]
  },
  {
   "cell_type": "code",
   "execution_count": 1,
   "metadata": {},
   "outputs": [],
   "source": [
    "class OptionPricing:\n",
    "\n",
    "    def __init__(self, S0, E, T, rf, sigma, iterations):\n",
    "        self.S0 = S0\n",
    "        self.E = E\n",
    "        self.T = T\n",
    "        self.rf = rf \n",
    "        self.sigma = sigma \n",
    "        self.iterations = iterations \n",
    "\n",
    "    def call_option_simulation(self):\n",
    "\n",
    "        #we have 2 columns: first with 0s, second will store the payoff\n",
    "        #we need the first column of 0s: payoff function is max(S-E, 0) for call option\n",
    "        option_data = np.zeros([self.iterations, 2])\n",
    "\n",
    "        #dimensions: 1-dimensional array with as many items as the iterations\n",
    "        rand = np.random.normal(0, 1, [1, self.iterations])\n",
    "\n",
    "        #equation for the S(t) stock price\n",
    "        stock_price = self.S0 * np.exp(self.T * (self.rf - 0.5 * self.sigma**2) + self.sigma *np.sqrt(self.T) * rand)\n",
    "\n",
    "        #we need S-E in order to calculate the max(S-E, 0)\n",
    "        option_data[:,1] = stock_price - self.E \n",
    "\n",
    "        #average for the Monte-Carlo method\n",
    "        #np.amax() returns the max(S-E, 0) according to the formula\n",
    "        average = np.sum(np.amax(option_data, axis=1))/float(self.iterations)\n",
    "\n",
    "        #we have to use the exp(-rT) discount factor\n",
    "        return np.exp(-1.0*self.rf*self.T)*average\n",
    "\n",
    "    def put_option_simulation(self):\n",
    "\n",
    "        #we have 2 columns: first with 0s, second will store the payoff\n",
    "        #we need the first column of 0s: payoff function is max(S-E, 0) for call option\n",
    "        option_data = np.zeros([self.iterations, 2])\n",
    "\n",
    "        #dimensions: 1-dimensional array with as many items as the iterations\n",
    "        rand = np.random.normal(0, 1, [1, self.iterations])\n",
    "\n",
    "        #equation for the S(t) stock price\n",
    "        stock_price = self.S0 * np.exp(self.T * (self.rf - 0.5 * self.sigma**2) + self.sigma *np.sqrt(self.T) * rand)\n",
    "\n",
    "        #we need S-E in order to calculate the max(E-S, 0)\n",
    "        option_data[:,1] = self.E - stock_price\n",
    "\n",
    "        #average for the Monte-Carlo method\n",
    "        #np.amax() returns the max(E-S, 0) according to the formula\n",
    "        average = np.sum(np.amax(option_data, axis=1))/float(self.iterations)\n",
    "\n",
    "        #we have to use the exp(-rT) discount factor\n",
    "        return np.exp(-1.0*self.rf*self.T)*average\n",
    "\n"
   ]
  },
  {
   "cell_type": "code",
   "execution_count": null,
   "metadata": {},
   "outputs": [],
   "source": [
    "if __name__ == \"__main__\":\n",
    "\n",
    "    S0 = 100                #underlying stock price at t=0\n",
    "    E = 100                 #strike price\n",
    "    T = 1                   #expiry\n",
    "    rf = 0.05               #risk-free rate\n",
    "    sigma = 0.2             #volatility of underlying stock\n",
    "    iterations = 10000000   #number of iterations in the monte-carlo simulation"
   ]
  }
 ],
 "metadata": {
  "kernelspec": {
   "display_name": "env",
   "language": "python",
   "name": "python3"
  },
  "language_info": {
   "codemirror_mode": {
    "name": "ipython",
    "version": 3
   },
   "file_extension": ".py",
   "mimetype": "text/x-python",
   "name": "python",
   "nbconvert_exporter": "python",
   "pygments_lexer": "ipython3",
   "version": "3.11.5"
  },
  "orig_nbformat": 4
 },
 "nbformat": 4,
 "nbformat_minor": 2
}
