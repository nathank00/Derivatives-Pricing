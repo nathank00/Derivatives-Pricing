{
 "cells": [
  {
   "cell_type": "markdown",
   "metadata": {},
   "source": [
    "# Options Pricing using Monte-Carlo Simulation"
   ]
  },
  {
   "cell_type": "code",
   "execution_count": 150,
   "metadata": {},
   "outputs": [],
   "source": [
    "import numpy as np \n",
    "import math\n",
    "import time\n",
    "import datetime as dt\n",
    "from datetime import datetime\n",
    "from datetime import date\n",
    "import yahoo_fin\n",
    "from yahoo_fin import options\n",
    "from yahoo_fin import stock_info\n",
    "import pandas_datareader\n",
    "from pandas_datareader import data as pdr"
   ]
  },
  {
   "cell_type": "markdown",
   "metadata": {},
   "source": [
    "## Practice with Yahoo_fin"
   ]
  },
  {
   "cell_type": "code",
   "execution_count": 21,
   "metadata": {},
   "outputs": [
    {
     "name": "stderr",
     "output_type": "stream",
     "text": [
      "/home/nate/development/env/lib/python3.11/site-packages/yahoo_fin/options.py:42: FutureWarning: Passing literal html to 'read_html' is deprecated and will be removed in a future version. To read from a literal string, wrap it in a 'StringIO' object.\n",
      "  tables = pd.read_html(requests.get(site, headers=headers).text)\n",
      "/home/nate/development/env/lib/python3.11/site-packages/yahoo_fin/options.py:42: FutureWarning: Passing literal html to 'read_html' is deprecated and will be removed in a future version. To read from a literal string, wrap it in a 'StringIO' object.\n",
      "  tables = pd.read_html(requests.get(site, headers=headers).text)\n"
     ]
    }
   ],
   "source": [
    "chain = options.get_options_chain(\"GME\", \"11/24/2023\")\n",
    "#chain['puts']\n",
    "calls = options.get_calls(\"GME\", \"11/24/2023\")\n",
    "#calls\n",
    "dates = options.get_expiration_dates(\"gme\")\n",
    "#dates"
   ]
  },
  {
   "cell_type": "markdown",
   "metadata": {},
   "source": [
    "## Getting Ticker and Option Type"
   ]
  },
  {
   "cell_type": "code",
   "execution_count": 139,
   "metadata": {},
   "outputs": [
    {
     "name": "stderr",
     "output_type": "stream",
     "text": [
      "/home/nate/development/env/lib/python3.11/site-packages/yahoo_fin/stock_info.py:580: FutureWarning: Series.__getitem__ treating keys as positions is deprecated. In a future version, integer keys will always be treated as labels (consistent with DataFrame behavior). To access a value by position, use `ser.iloc[pos]`\n",
      "  return df.close[-1]\n"
     ]
    },
    {
     "name": "stdout",
     "output_type": "stream",
     "text": [
      "Ticker Selected: AAPL \n",
      " Price: 191.45\n",
      "Option Selected: call\n"
     ]
    },
    {
     "name": "stderr",
     "output_type": "stream",
     "text": [
      "/home/nate/development/env/lib/python3.11/site-packages/yahoo_fin/options.py:42: FutureWarning: Passing literal html to 'read_html' is deprecated and will be removed in a future version. To read from a literal string, wrap it in a 'StringIO' object.\n",
      "  tables = pd.read_html(requests.get(site, headers=headers).text)\n"
     ]
    }
   ],
   "source": [
    "ticker = input(\"Enter Ticker:\").upper()\n",
    "price = stock_info.get_live_price(f\"{ticker}\")\n",
    "S0 = round(price, 2)\n",
    "print(f\"Ticker Selected: {ticker} \\n\", f\"Price: {price}\")\n",
    "\n",
    "option = input(\"Call or Put?\")\n",
    "print(f\"Option Selected: {option}\")\n",
    "\n",
    "if option == 'put' or option == 'Put':\n",
    "    chain = options.get_puts(f\"{ticker}\")\n",
    "\n",
    "elif option == 'call' or option == 'Call':\n",
    "    chain = options.get_calls(f\"{ticker}\")"
   ]
  },
  {
   "cell_type": "markdown",
   "metadata": {},
   "source": [
    "## Getting a Strike Price"
   ]
  },
  {
   "cell_type": "code",
   "execution_count": 48,
   "metadata": {},
   "outputs": [
    {
     "name": "stdout",
     "output_type": "stream",
     "text": [
      "Select a Strike Price\n",
      " 0      50.0\n",
      "1      75.0\n",
      "2      90.0\n",
      "3      95.0\n",
      "4     100.0\n",
      "5     105.0\n",
      "6     110.0\n",
      "7     115.0\n",
      "8     120.0\n",
      "9     125.0\n",
      "10    130.0\n",
      "11    135.0\n",
      "12    140.0\n",
      "13    145.0\n",
      "14    150.0\n",
      "15    155.0\n",
      "16    157.5\n",
      "17    160.0\n",
      "18    162.5\n",
      "19    165.0\n",
      "20    167.5\n",
      "21    170.0\n",
      "22    172.5\n",
      "23    175.0\n",
      "24    177.5\n",
      "25    180.0\n",
      "26    182.5\n",
      "27    185.0\n",
      "28    187.5\n",
      "29    190.0\n",
      "30    192.5\n",
      "31    195.0\n",
      "32    197.5\n",
      "33    200.0\n",
      "34    202.5\n",
      "35    205.0\n",
      "36    207.5\n",
      "37    210.0\n",
      "38    212.5\n",
      "39    215.0\n",
      "40    220.0\n",
      "41    225.0\n",
      "42    230.0\n",
      "43    235.0\n",
      "44    245.0\n",
      "45    250.0\n",
      "46    255.0\n",
      "47    265.0\n",
      "Name: Strike, dtype: float64\n"
     ]
    }
   ],
   "source": [
    "print(\"Select a Strike Price\\n\", chain['Strike'])\n",
    "strike = float(input(\"Select a Strike Price: \"))\n",
    "K = strike"
   ]
  },
  {
   "cell_type": "markdown",
   "metadata": {},
   "source": [
    "## Obtaining Expiry Date"
   ]
  },
  {
   "cell_type": "code",
   "execution_count": 124,
   "metadata": {},
   "outputs": [
    {
     "name": "stdout",
     "output_type": "stream",
     "text": [
      "Select an Expiry Date\n",
      " ['November 24, 2023', 'December 1, 2023', 'December 8, 2023', 'December 15, 2023', 'December 22, 2023', 'December 29, 2023', 'January 19, 2024', 'February 16, 2024', 'March 15, 2024', 'April 19, 2024', 'June 21, 2024', 'July 19, 2024', 'September 20, 2024', 'December 20, 2024', 'January 17, 2025', 'June 20, 2025', 'September 19, 2025', 'December 19, 2025', 'January 16, 2026']\n",
      "Expiry Date: 5/30/24\n"
     ]
    }
   ],
   "source": [
    "dates = options.get_expiration_dates(f\"{ticker}\")\n",
    "print(\"Select an Expiry Date\\n\", dates)\n",
    "date1 = input(\"Expiry Date (YYYY, MM, DD): \\n\")\n",
    "print(f\"Expiry Date: {date1}\")\n"
   ]
  },
  {
   "cell_type": "markdown",
   "metadata": {},
   "source": [
    "## Calculating Days to Expiry"
   ]
  },
  {
   "cell_type": "code",
   "execution_count": 125,
   "metadata": {},
   "outputs": [
    {
     "name": "stdout",
     "output_type": "stream",
     "text": [
      "<class 'datetime.date'>\n",
      "2024-05-30\n"
     ]
    }
   ],
   "source": [
    "date_str = date1\n",
    "date_object = datetime.strptime(date_str, '%m/%d/%y').date()\n",
    "print(type(date_object))\n",
    "print(date_object)"
   ]
  },
  {
   "cell_type": "code",
   "execution_count": 171,
   "metadata": {},
   "outputs": [
    {
     "name": "stdout",
     "output_type": "stream",
     "text": [
      "Days to Expiry: 192\n"
     ]
    },
    {
     "data": {
      "text/plain": [
       "0.5260273972602739"
      ]
     },
     "execution_count": 171,
     "metadata": {},
     "output_type": "execute_result"
    }
   ],
   "source": [
    "from datetime import date\n",
    "balls = date.today()\n",
    "td = date_object - balls\n",
    "print(f\"Days to Expiry: {td.days}\")\n",
    "\n",
    "T = td.days / 365"
   ]
  },
  {
   "cell_type": "markdown",
   "metadata": {},
   "source": [
    "## Obraining the Risk-Free Rate (3 mo. T Bills)"
   ]
  },
  {
   "cell_type": "code",
   "execution_count": 170,
   "metadata": {},
   "outputs": [
    {
     "name": "stdout",
     "output_type": "stream",
     "text": [
      "Risk-Free Rate: 0.0524\n"
     ]
    },
    {
     "name": "stderr",
     "output_type": "stream",
     "text": [
      "/home/nate/development/env/lib/python3.11/site-packages/yahoo_fin/stock_info.py:580: FutureWarning: Series.__getitem__ treating keys as positions is deprecated. In a future version, integer keys will always be treated as labels (consistent with DataFrame behavior). To access a value by position, use `ser.iloc[pos]`\n",
      "  return df.close[-1]\n"
     ]
    }
   ],
   "source": [
    "r = stock_info.get_live_price(\"^IRX\")\n",
    "rf = round(r, 2)/100\n",
    "\n",
    "print(f\"Risk-Free Rate: {rf}\")"
   ]
  },
  {
   "cell_type": "markdown",
   "metadata": {},
   "source": [
    "## Calculating Vol"
   ]
  },
  {
   "cell_type": "code",
   "execution_count": 141,
   "metadata": {},
   "outputs": [
    {
     "name": "stdout",
     "output_type": "stream",
     "text": [
      "2022-11-20\n"
     ]
    }
   ],
   "source": [
    "from dateutil.relativedelta import relativedelta\n",
    "minusoneyear = today - relativedelta(years=1)\n",
    "print(minusoneyear)"
   ]
  },
  {
   "cell_type": "code",
   "execution_count": 163,
   "metadata": {},
   "outputs": [
    {
     "data": {
      "text/plain": [
       "2022-11-21    148.009995\n",
       "2022-11-22    150.179993\n",
       "2022-11-23    151.070007\n",
       "2022-11-25    148.110001\n",
       "2022-11-28    144.220001\n",
       "                 ...    \n",
       "2023-11-13    184.800003\n",
       "2023-11-14    187.440002\n",
       "2023-11-15    188.009995\n",
       "2023-11-16    189.710007\n",
       "2023-11-17    189.690002\n",
       "Name: close, Length: 250, dtype: float64"
      ]
     },
     "execution_count": 163,
     "metadata": {},
     "output_type": "execute_result"
    }
   ],
   "source": [
    "df = stock_info.get_data(f\"{ticker}\", start_date= minusoneyear, end_date= today)\n",
    "df['close']\n"
   ]
  },
  {
   "cell_type": "code",
   "execution_count": 169,
   "metadata": {},
   "outputs": [
    {
     "data": {
      "text/plain": [
       "0.22714355310559806"
      ]
     },
     "execution_count": 169,
     "metadata": {},
     "output_type": "execute_result"
    }
   ],
   "source": [
    "log_returns = np.log(df.close/df.close.shift(1)).dropna()\n",
    "daily_std = log_returns.std()\n",
    "annualized_vol = daily_std * np.sqrt(252)\n",
    "sigma = annualized_vol\n",
    "sigma"
   ]
  },
  {
   "cell_type": "code",
   "execution_count": 172,
   "metadata": {},
   "outputs": [
    {
     "name": "stdout",
     "output_type": "stream",
     "text": [
      "Simulations = 69\n"
     ]
    }
   ],
   "source": [
    "iterations = input(\"How Many Simulations Would You Like to Run?\")\n",
    "print(f\"Simulations = {iterations}\")"
   ]
  },
  {
   "cell_type": "code",
   "execution_count": 1,
   "metadata": {},
   "outputs": [],
   "source": [
    "class OptionPricing:\n",
    "\n",
    "    def __init__(self, S0, K, T, rf, sigma, iterations):\n",
    "        self.S0 = S0\n",
    "        self.K = K\n",
    "        self.T = T\n",
    "        self.rf = rf \n",
    "        self.sigma = sigma \n",
    "        self.iterations = iterations \n",
    "\n",
    "    def call_option_simulation(self):\n",
    "\n",
    "        #we have 2 columns: first with 0s, second will store the payoff\n",
    "        #we need the first column of 0s: payoff function is max(S-E, 0) for call option\n",
    "        option_data = np.zeros([self.iterations, 2])\n",
    "\n",
    "        #dimensions: 1-dimensional array with as many items as the iterations\n",
    "        rand = np.random.normal(0, 1, [1, self.iterations])\n",
    "\n",
    "        #equation for the S(t) stock price\n",
    "        stock_price = self.S0 * np.exp(self.T * (self.rf - 0.5 * self.sigma**2) + self.sigma *np.sqrt(self.T) * rand)\n",
    "\n",
    "        #we need S-K in order to calculate the max(S-K, 0)\n",
    "        option_data[:,1] = stock_price - self.K \n",
    "\n",
    "        #average for the Monte-Carlo method\n",
    "        #np.amax() returns the max(S-K, 0) according to the formula\n",
    "        average = np.sum(np.amax(option_data, axis=1))/float(self.iterations)\n",
    "\n",
    "        #we have to use the exp(-rT) discount factor\n",
    "        return np.exp(-1.0*self.rf*self.T)*average\n",
    "\n",
    "    def put_option_simulation(self):\n",
    "\n",
    "        #we have 2 columns: first with 0s, second will store the payoff\n",
    "        #we need the first column of 0s: payoff function is max(S-E, 0) for call option\n",
    "        option_data = np.zeros([self.iterations, 2])\n",
    "\n",
    "        #dimensions: 1-dimensional array with as many items as the iterations\n",
    "        rand = np.random.normal(0, 1, [1, self.iterations])\n",
    "\n",
    "        #equation for the S(t) stock price\n",
    "        stock_price = self.S0 * np.exp(self.T * (self.rf - 0.5 * self.sigma**2) + self.sigma *np.sqrt(self.T) * rand)\n",
    "\n",
    "        #we need S-K in order to calculate the max(K-S, 0)\n",
    "        option_data[:,1] = self.K - stock_price\n",
    "\n",
    "        #average for the Monte-Carlo method\n",
    "        #np.amax() returns the max(K-S, 0) according to the formula\n",
    "        average = np.sum(np.amax(option_data, axis=1))/float(self.iterations)\n",
    "\n",
    "        #we have to use the exp(-rT) discount factor\n",
    "        return np.exp(-1.0*self.rf*self.T)*average\n",
    "\n"
   ]
  },
  {
   "cell_type": "code",
   "execution_count": 2,
   "metadata": {},
   "outputs": [],
   "source": [
    "if __name__ == \"__main__\":\n",
    "\n",
    "    S0 = 100                #underlying stock price at t=0\n",
    "    K = 100                 #strike price\n",
    "    T = 1                   #expiry\n",
    "    rf = 0.05               #risk-free rate\n",
    "    sigma = 0.2             #volatility of underlying stock\n",
    "    iterations = 10000000   #number of iterations in the monte-carlo simulation\n",
    "\n",
    "    model = OptionsPricing(S0, K, T, rf, sigma, iterations)\n",
    "    print(\"Monte-Carlo Call option price: \", model.call_option_simulation())\n",
    "    print(\"Monte-Carlo Put option price: \", model.put_option_simulation())"
   ]
  },
  {
   "cell_type": "code",
   "execution_count": null,
   "metadata": {},
   "outputs": [],
   "source": []
  }
 ],
 "metadata": {
  "kernelspec": {
   "display_name": "env",
   "language": "python",
   "name": "python3"
  },
  "language_info": {
   "codemirror_mode": {
    "name": "ipython",
    "version": 3
   },
   "file_extension": ".py",
   "mimetype": "text/x-python",
   "name": "python",
   "nbconvert_exporter": "python",
   "pygments_lexer": "ipython3",
   "version": "3.11.5"
  },
  "orig_nbformat": 4
 },
 "nbformat": 4,
 "nbformat_minor": 2
}
